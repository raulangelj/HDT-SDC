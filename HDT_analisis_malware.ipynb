{
 "cells": [
  {
   "attachments": {},
   "cell_type": "markdown",
   "metadata": {},
   "source": [
    "Raul Jimenez - 19017\n",
    "# Hoja de trabajo Análisis de Malware"
   ]
  },
  {
   "cell_type": "markdown",
   "metadata": {},
   "source": [
    "## Parte 1 - Analisis estadistico"
   ]
  },
  {
   "attachments": {},
   "cell_type": "markdown",
   "metadata": {},
   "source": [
    "1. Utilice la herramienta pefile para examinar el PE header y obtenga las DLL y las APIs que cada \n",
    "uno  de  los  ejecutables  utilizan.  ¿Qué  diferencias  observa  entre  los  ejemplos?  ¿Existe  algún \n",
    "indicio sospechoso en la cantidad de DLLs y las APIs llamadas? "
   ]
  },
  {
   "cell_type": "code",
   "execution_count": 4,
   "metadata": {},
   "outputs": [
    {
     "ename": "Exception",
     "evalue": "Unable to access file './MALWR/sample_vg655_25th.exe': [Errno 22] Invalid argument: './MALWR/sample_vg655_25th.exe'",
     "output_type": "error",
     "traceback": [
      "\u001b[1;31m---------------------------------------------------------------------------\u001b[0m",
      "\u001b[1;31mOSError\u001b[0m                                   Traceback (most recent call last)",
      "File \u001b[1;32mc:\\Users\\raula\\Documents\\RAUL_ANGEL\\UVG_COMPU\\NOVENO_SEMESTRE\\SECURITY-DATA-SCIENCE\\venv\\lib\\site-packages\\pefile.py:2975\u001b[0m, in \u001b[0;36mPE.__parse__\u001b[1;34m(self, fname, data, fast_load)\u001b[0m\n\u001b[0;32m   2974\u001b[0m \u001b[39mtry\u001b[39;00m:\n\u001b[1;32m-> 2975\u001b[0m     fd \u001b[39m=\u001b[39m \u001b[39mopen\u001b[39;49m(fname, \u001b[39m\"\u001b[39;49m\u001b[39mrb\u001b[39;49m\u001b[39m\"\u001b[39;49m)\n\u001b[0;32m   2976\u001b[0m     \u001b[39mself\u001b[39m\u001b[39m.\u001b[39mfileno \u001b[39m=\u001b[39m fd\u001b[39m.\u001b[39mfileno()\n",
      "\u001b[1;31mOSError\u001b[0m: [Errno 22] Invalid argument: './MALWR/sample_vg655_25th.exe'",
      "\nDuring handling of the above exception, another exception occurred:\n",
      "\u001b[1;31mException\u001b[0m                                 Traceback (most recent call last)",
      "Cell \u001b[1;32mIn[4], line 4\u001b[0m\n\u001b[0;32m      1\u001b[0m \u001b[39mimport\u001b[39;00m \u001b[39mpefile\u001b[39;00m\n\u001b[0;32m      3\u001b[0m \u001b[39m# pe_qwrty = pefile.PE('./MALWR/sample_qwrty_dk2')\u001b[39;00m\n\u001b[1;32m----> 4\u001b[0m pe_vg655 \u001b[39m=\u001b[39m pefile\u001b[39m.\u001b[39;49mPE(\u001b[39m'\u001b[39;49m\u001b[39m./MALWR/sample_vg655_25th.exe\u001b[39;49m\u001b[39m'\u001b[39;49m)\n\u001b[0;32m      6\u001b[0m \u001b[39m# print('SAMPLE_QWRTY_DK2')\u001b[39;00m\n\u001b[0;32m      7\u001b[0m \u001b[39m# for entry in pe_qwrty.DIRECTORY_ENTRY_IMPORT:\u001b[39;00m\n\u001b[0;32m      8\u001b[0m \u001b[39m#     print('LLAMADAS AL DLL')\u001b[39;00m\n\u001b[1;32m   (...)\u001b[0m\n\u001b[0;32m     11\u001b[0m \u001b[39m#     for function in entry.imports:\u001b[39;00m\n\u001b[0;32m     12\u001b[0m \u001b[39m#         print ('\\t', function.name)\u001b[39;00m\n\u001b[0;32m     14\u001b[0m \u001b[39mprint\u001b[39m(\u001b[39m'\u001b[39m\u001b[39mSAMPLE_VG655_25TH.EXE\u001b[39m\u001b[39m'\u001b[39m)\n",
      "File \u001b[1;32mc:\\Users\\raula\\Documents\\RAUL_ANGEL\\UVG_COMPU\\NOVENO_SEMESTRE\\SECURITY-DATA-SCIENCE\\venv\\lib\\site-packages\\pefile.py:2895\u001b[0m, in \u001b[0;36mPE.__init__\u001b[1;34m(self, name, data, fast_load, max_symbol_exports, max_repeated_symbol)\u001b[0m\n\u001b[0;32m   2893\u001b[0m fast_load \u001b[39m=\u001b[39m fast_load \u001b[39mif\u001b[39;00m fast_load \u001b[39mis\u001b[39;00m \u001b[39mnot\u001b[39;00m \u001b[39mNone\u001b[39;00m \u001b[39melse\u001b[39;00m \u001b[39mglobals\u001b[39m()[\u001b[39m\"\u001b[39m\u001b[39mfast_load\u001b[39m\u001b[39m\"\u001b[39m]\n\u001b[0;32m   2894\u001b[0m \u001b[39mtry\u001b[39;00m:\n\u001b[1;32m-> 2895\u001b[0m     \u001b[39mself\u001b[39;49m\u001b[39m.\u001b[39;49m__parse__(name, data, fast_load)\n\u001b[0;32m   2896\u001b[0m \u001b[39mexcept\u001b[39;00m:\n\u001b[0;32m   2897\u001b[0m     \u001b[39mself\u001b[39m\u001b[39m.\u001b[39mclose()\n",
      "File \u001b[1;32mc:\\Users\\raula\\Documents\\RAUL_ANGEL\\UVG_COMPU\\NOVENO_SEMESTRE\\SECURITY-DATA-SCIENCE\\venv\\lib\\site-packages\\pefile.py:2987\u001b[0m, in \u001b[0;36mPE.__parse__\u001b[1;34m(self, fname, data, fast_load)\u001b[0m\n\u001b[0;32m   2985\u001b[0m     exception_msg \u001b[39m=\u001b[39m \u001b[39m\"\u001b[39m\u001b[39m{0}\u001b[39;00m\u001b[39m\"\u001b[39m\u001b[39m.\u001b[39mformat(excp)\n\u001b[0;32m   2986\u001b[0m     exception_msg \u001b[39m=\u001b[39m exception_msg \u001b[39mand\u001b[39;00m (\u001b[39m\"\u001b[39m\u001b[39m: \u001b[39m\u001b[39m%s\u001b[39;00m\u001b[39m\"\u001b[39m \u001b[39m%\u001b[39m exception_msg)\n\u001b[1;32m-> 2987\u001b[0m     \u001b[39mraise\u001b[39;00m \u001b[39mException\u001b[39;00m(\n\u001b[0;32m   2988\u001b[0m         \u001b[39m\"\u001b[39m\u001b[39mUnable to access file \u001b[39m\u001b[39m'\u001b[39m\u001b[39m{0}\u001b[39;00m\u001b[39m'\u001b[39m\u001b[39m{1}\u001b[39;00m\u001b[39m\"\u001b[39m\u001b[39m.\u001b[39mformat(fname, exception_msg)\n\u001b[0;32m   2989\u001b[0m     )\n\u001b[0;32m   2990\u001b[0m \u001b[39mfinally\u001b[39;00m:\n\u001b[0;32m   2991\u001b[0m     \u001b[39mif\u001b[39;00m fd \u001b[39mis\u001b[39;00m \u001b[39mnot\u001b[39;00m \u001b[39mNone\u001b[39;00m:\n",
      "\u001b[1;31mException\u001b[0m: Unable to access file './MALWR/sample_vg655_25th.exe': [Errno 22] Invalid argument: './MALWR/sample_vg655_25th.exe'"
     ]
    }
   ],
   "source": [
    "import pefile\n",
    "\n",
    "pe_qwrty = pefile.PE('./MALWR/sample_qwrty_dk2')\n",
    "pe_vg655 = pefile.PE('./MALWR/sample_vg655_25th.exe')\n",
    "\n",
    "print('SAMPLE_QWRTY_DK2')\n",
    "for entry in pe_qwrty.DIRECTORY_ENTRY_IMPORT:\n",
    "    print('LLAMADAS AL DLL')\n",
    "    print(entry.dll)\n",
    "    print('LLAMADAS A FUNCIONES \\t')\n",
    "    for function in entry.imports:\n",
    "        print ('\\t', function.name)\n",
    "\n",
    "print('SAMPLE_VG655_25TH.EXE')\n",
    "for entry in pe_vg655.DIRECTORY_ENTRY_IMPORT:\n",
    "    print('LLAMADAS AL DLL')\n",
    "    print(entry.dll)\n",
    "    print('LLAMADAS A FUNCIONES \\t')\n",
    "    for function in entry.imports:\n",
    "        print ('\\t', function.name)"
   ]
  },
  {
   "attachments": {},
   "cell_type": "markdown",
   "metadata": {},
   "source": [
    "2. Obtenga la información de las secciones del PE Header. ¿Qué significa que algunas secciones \n",
    "tengan como parte de su nombre “upx”? Realice el procedimiento de desempaquetado para \n",
    "obtener las llamadas completas de las APIs. \n",
    "3. Según el paper “Towards Understanding Malware Behaviour by the Extraction of API Calls”, \n",
    "¿en  que  categoría  sospechosas  pueden  clasificarse  estos  ejemplos  en  base  a  algunas  de  las \n",
    "llamadas a las APIs que realizan? Muestre una tabla con las APIs sospechosas y la categoría de \n",
    "malware que el paper propone. \n",
    "4. Para el archivo “sample_vg655_25th.exe” obtenga el HASH en base al algoritmo SHA256. \n",
    "5. Para el archivo “sample_vg655_25th.exe”, ¿cuál es el propósito de la DLL ADVAPI32.dll? \n",
    "6. Para  el  archivo  “sample_vg655_25th.exe”,  ¿cuál  es  el  propósito  de  la  API \n",
    "CryptReleaseContext? \n",
    "7. Con  la  información  recopilada  hasta  el  momento,  indique  para  el  archivo \n",
    "““sample_vg655_25th.exe” si es sospechoso o no, y cual podría ser su propósito. "
   ]
  },
  {
   "attachments": {},
   "cell_type": "markdown",
   "metadata": {},
   "source": [
    "## Part 2 - Analisis dinamico"
   ]
  },
  {
   "attachments": {},
   "cell_type": "markdown",
   "metadata": {},
   "source": [
    "8. Utilice la plataforma de análisis dinámico https://www.hybrid-analysis.com y cargue el archivo \n",
    "“sample_vg655_25th.exe”. ¿Se corresponde el HASH de la plataforma con el generado? ¿Cuál \n",
    "es el nombre del malware encontrado? ¿Cuál es el propósito de este malware? \n",
    "9. Muestre  las  capturas  de  pantalla  sobre  los  mensajes  que  este  malware  presenta  a  usuario. \n",
    "¿Se corresponden las sospechas con el análisis realizado en el punto 7? "
   ]
  }
 ],
 "metadata": {
  "kernelspec": {
   "display_name": "venv",
   "language": "python",
   "name": "python3"
  },
  "language_info": {
   "codemirror_mode": {
    "name": "ipython",
    "version": 3
   },
   "file_extension": ".py",
   "mimetype": "text/x-python",
   "name": "python",
   "nbconvert_exporter": "python",
   "pygments_lexer": "ipython3",
   "version": "3.10.6"
  },
  "orig_nbformat": 4
 },
 "nbformat": 4,
 "nbformat_minor": 2
}
